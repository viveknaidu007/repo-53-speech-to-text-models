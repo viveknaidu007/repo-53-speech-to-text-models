{
 "cells": [
  {
   "cell_type": "code",
   "execution_count": 1,
   "metadata": {},
   "outputs": [
    {
     "name": "stdout",
     "output_type": "stream",
     "text": [
      "Requirement already satisfied: vosk in c:\\users\\poppo\\anaconda3\\envs\\genai\\lib\\site-packages (0.3.45)\n",
      "Requirement already satisfied: cffi>=1.0 in c:\\users\\poppo\\anaconda3\\envs\\genai\\lib\\site-packages (from vosk) (1.16.0)\n",
      "Requirement already satisfied: requests in c:\\users\\poppo\\anaconda3\\envs\\genai\\lib\\site-packages (from vosk) (2.31.0)\n",
      "Requirement already satisfied: srt in c:\\users\\poppo\\anaconda3\\envs\\genai\\lib\\site-packages (from vosk) (3.5.3)\n",
      "Requirement already satisfied: tqdm in c:\\users\\poppo\\anaconda3\\envs\\genai\\lib\\site-packages (from vosk) (4.66.1)\n",
      "Requirement already satisfied: websockets in c:\\users\\poppo\\anaconda3\\envs\\genai\\lib\\site-packages (from vosk) (12.0)\n",
      "Requirement already satisfied: pycparser in c:\\users\\poppo\\anaconda3\\envs\\genai\\lib\\site-packages (from cffi>=1.0->vosk) (2.21)\n",
      "Requirement already satisfied: charset-normalizer<4,>=2 in c:\\users\\poppo\\anaconda3\\envs\\genai\\lib\\site-packages (from requests->vosk) (3.3.2)\n",
      "Requirement already satisfied: idna<4,>=2.5 in c:\\users\\poppo\\anaconda3\\envs\\genai\\lib\\site-packages (from requests->vosk) (3.6)\n",
      "Requirement already satisfied: urllib3<3,>=1.21.1 in c:\\users\\poppo\\anaconda3\\envs\\genai\\lib\\site-packages (from requests->vosk) (2.2.0)\n",
      "Requirement already satisfied: certifi>=2017.4.17 in c:\\users\\poppo\\anaconda3\\envs\\genai\\lib\\site-packages (from requests->vosk) (2024.2.2)\n",
      "Requirement already satisfied: colorama in c:\\users\\poppo\\anaconda3\\envs\\genai\\lib\\site-packages (from tqdm->vosk) (0.4.6)\n",
      "Requirement already satisfied: sounddevice in c:\\users\\poppo\\anaconda3\\envs\\genai\\lib\\site-packages (0.4.6)\n",
      "Requirement already satisfied: CFFI>=1.0 in c:\\users\\poppo\\anaconda3\\envs\\genai\\lib\\site-packages (from sounddevice) (1.16.0)\n",
      "Requirement already satisfied: pycparser in c:\\users\\poppo\\anaconda3\\envs\\genai\\lib\\site-packages (from CFFI>=1.0->sounddevice) (2.21)\n"
     ]
    }
   ],
   "source": [
    "!pip install vosk\n",
    "!pip install sounddevice"
   ]
  },
  {
   "cell_type": "code",
   "execution_count": 1,
   "metadata": {},
   "outputs": [
    {
     "data": {
      "text/plain": [
       "'c:\\\\Users\\\\poppo\\\\Desktop\\\\github ai\\\\end to end by vivek\\\\repo-53-speech-to-text-models'"
      ]
     },
     "execution_count": 1,
     "metadata": {},
     "output_type": "execute_result"
    }
   ],
   "source": [
    "%pwd"
   ]
  },
  {
   "cell_type": "code",
   "execution_count": 3,
   "metadata": {},
   "outputs": [
    {
     "name": "stdout",
     "output_type": "stream",
     "text": [
      "Listening...\n"
     ]
    },
    {
     "ename": "AttributeError",
     "evalue": "'KaldiRecognizer' object has no attribute 'process_audio'",
     "output_type": "error",
     "traceback": [
      "\u001b[1;31m---------------------------------------------------------------------------\u001b[0m",
      "\u001b[1;31mAttributeError\u001b[0m                            Traceback (most recent call last)",
      "Cell \u001b[1;32mIn[3], line 31\u001b[0m\n\u001b[0;32m     28\u001b[0m                 \u001b[38;5;28;01mbreak\u001b[39;00m\n\u001b[0;32m     30\u001b[0m \u001b[38;5;66;03m# Transcribe audio continuously\u001b[39;00m\n\u001b[1;32m---> 31\u001b[0m \u001b[43mtranscribe_audio\u001b[49m\u001b[43m(\u001b[49m\u001b[43m)\u001b[49m\n",
      "Cell \u001b[1;32mIn[3], line 14\u001b[0m, in \u001b[0;36mtranscribe_audio\u001b[1;34m()\u001b[0m\n\u001b[0;32m     11\u001b[0m \u001b[38;5;28;01mdef\u001b[39;00m \u001b[38;5;21mtranscribe_audio\u001b[39m():\n\u001b[0;32m     12\u001b[0m     \u001b[38;5;28mprint\u001b[39m(\u001b[38;5;124m\"\u001b[39m\u001b[38;5;124mListening...\u001b[39m\u001b[38;5;124m\"\u001b[39m)\n\u001b[1;32m---> 14\u001b[0m     \u001b[38;5;28;01mwith\u001b[39;00m sd\u001b[38;5;241m.\u001b[39mInputStream(samplerate\u001b[38;5;241m=\u001b[39m\u001b[38;5;241m16000\u001b[39m, dtype\u001b[38;5;241m=\u001b[39m\u001b[38;5;124m'\u001b[39m\u001b[38;5;124mint16\u001b[39m\u001b[38;5;124m'\u001b[39m, channels\u001b[38;5;241m=\u001b[39m\u001b[38;5;241m1\u001b[39m, callback\u001b[38;5;241m=\u001b[39m\u001b[43mrec\u001b[49m\u001b[38;5;241;43m.\u001b[39;49m\u001b[43mprocess_audio\u001b[49m):\n\u001b[0;32m     15\u001b[0m         \u001b[38;5;28;01mwhile\u001b[39;00m \u001b[38;5;28;01mTrue\u001b[39;00m:\n\u001b[0;32m     16\u001b[0m             \u001b[38;5;28;01mif\u001b[39;00m rec\u001b[38;5;241m.\u001b[39mAcceptWaveform():\n",
      "\u001b[1;31mAttributeError\u001b[0m: 'KaldiRecognizer' object has no attribute 'process_audio'"
     ]
    }
   ],
   "source": [
    "import vosk\n",
    "import sounddevice as sd\n",
    "from vosk import Model , KaldiRecognizer\n",
    "\n",
    "# Replace with the actual path to your extracted model folder\n",
    "model_path = Model(\"vosk-model-small-en-us-0.15\")\n",
    "\n",
    "# Create a recognizer\n",
    "rec = vosk.KaldiRecognizer(model_path, 16000)\n",
    "\n",
    "def transcribe_audio():\n",
    "    print(\"Listening...\")\n",
    "\n",
    "    with sd.InputStream(samplerate=16000, dtype='int16', channels=1, callback=rec.process_audio):\n",
    "        while True:\n",
    "            if rec.AcceptWaveform():\n",
    "                text = rec.Result()\n",
    "                if text:\n",
    "                    print(\"You said:\", text)\n",
    "                else:\n",
    "                    print(\"No speech recognized.\")\n",
    "\n",
    "            if rec.PartialResult():\n",
    "                print(\"Partial:\", rec.PartialResult())\n",
    "\n",
    "            # Add a mechanism to stop listening (e.g., press a key)\n",
    "            if input(\"Press Enter to continue listening, or any other key to stop: \") != \"\":\n",
    "                break\n",
    "\n",
    "# Transcribe audio continuously\n",
    "transcribe_audio()\n"
   ]
  }
 ],
 "metadata": {
  "kernelspec": {
   "display_name": "genai",
   "language": "python",
   "name": "python3"
  },
  "language_info": {
   "codemirror_mode": {
    "name": "ipython",
    "version": 3
   },
   "file_extension": ".py",
   "mimetype": "text/x-python",
   "name": "python",
   "nbconvert_exporter": "python",
   "pygments_lexer": "ipython3",
   "version": "3.12.1"
  }
 },
 "nbformat": 4,
 "nbformat_minor": 2
}
