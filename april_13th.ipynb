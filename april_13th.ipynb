{
 "cells": [
  {
   "cell_type": "code",
   "execution_count": null,
   "metadata": {},
   "outputs": [],
   "source": [
    "#focus on latency and accuracy\n",
    "#use cuda GPU and CPU \n",
    "#google api for translation\n",
    "#our model should recognise any audio "
   ]
  }
 ],
 "metadata": {
  "language_info": {
   "name": "python"
  }
 },
 "nbformat": 4,
 "nbformat_minor": 2
}
